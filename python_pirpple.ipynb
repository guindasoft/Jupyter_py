{
 "metadata": {
  "language_info": {
   "codemirror_mode": {
    "name": "ipython",
    "version": 3
   },
   "file_extension": ".py",
   "mimetype": "text/x-python",
   "name": "python",
   "nbconvert_exporter": "python",
   "pygments_lexer": "ipython3",
   "version": "3.9.2"
  },
  "orig_nbformat": 2,
  "kernelspec": {
   "name": "python3",
   "display_name": "Python 3.9.2 64-bit",
   "metadata": {
    "interpreter": {
     "hash": "f3bdf292ff06c97874b833322715f0e0ed5426fb53ed1696898539db60bc3bb1"
    }
   }
  }
 },
 "nbformat": 4,
 "nbformat_minor": 2,
 "cells": [
  {
   "source": [
    "#Clase #3"
   ],
   "cell_type": "markdown",
   "metadata": {}
  },
  {
   "source": [
    "##1.Escribe un programa Python que acepte el radio de un círculo del usuario y calcule el área."
   ],
   "cell_type": "markdown",
   "metadata": {}
  },
  {
   "cell_type": "code",
   "execution_count": null,
   "metadata": {},
   "outputs": [],
   "source": [
    "vPi = float(3.14)\n",
    "vRadioCirculo = float(input(\"Ingrese el radio del circulo :\"))\n",
    "\n",
    "#El área de un círculo es pi multiplicado por el radio al cuadrado (A = π r²)\n",
    "vAreaCirculo = (vPi * pow(vRadioCirculo,2))\n",
    "print(vAreaCirculo)"
   ]
  },
  {
   "source": [
    "###2.Escribe un programa Python que acepte un número entero (n) y calcule el valor de n + nn + nnn"
   ],
   "cell_type": "markdown",
   "metadata": {}
  },
  {
   "cell_type": "code",
   "execution_count": null,
   "metadata": {},
   "outputs": [],
   "source": [
    "vNumero1 = int(input(\"ingrese un valor entero :\"))\n",
    "vNumero2 = int(vNumero1 + vNumero1)\n",
    "vNumero3 = int(vNumero2 & vNumero1)\n",
    "print(vNumero1)\n",
    "print(vNumero2)\n",
    "print(vNumero3)\n",
    "vCalculo = vNumero1 + vNumero2 + vNumero3\n",
    "print(vCalculo)"
   ]
  },
  {
   "source": [
    "###3.Escribe un programa en Python que acepte una cadena de caracteres y cuente el tamaño de la\n",
    "cadena y cuantas veces aparece la letra A (mayuscula y minúscula)"
   ],
   "cell_type": "markdown",
   "metadata": {}
  },
  {
   "cell_type": "code",
   "execution_count": null,
   "metadata": {},
   "outputs": [],
   "source": [
    "vCadena = str(input(\"Ingrese cadena de caracteres :\"))\n",
    "vTamanioCadena = len(vCadena)\n",
    "vRepetisionesA = vCadena.upper().count(\"A\")\n",
    "\n",
    "print(\"Resultado evaluación :\")\n",
    "print(\"Cadena de caracteres ingresada :\", vCadena)\n",
    "print(\"Tamaño de la cadena ingresada :\", vTamanioCadena)\n",
    "print(\"Cantidad de repeticiones de la letra a o A en la cadena :\", vRepetisionesA)\n"
   ]
  },
  {
   "source": [
    "###4.Escribe un programa en Python que muestre la hora actual con una suma de dos horas adicionales"
   ],
   "cell_type": "markdown",
   "metadata": {}
  },
  {
   "cell_type": "code",
   "execution_count": null,
   "metadata": {},
   "outputs": [],
   "source": [
    "from datetime import datetime\n",
    "\n",
    "vDateTime = datetime.now().strftime(\"%H:%M:%S\")\n",
    "vHora = str(datetime.now().hour + 2)\n",
    "vMinutos = str(datetime.now().minute)\n",
    "vSegundos = str(datetime.now().second)\n",
    "\n",
    "print(\"La hora actual es:\", vDateTime)\n",
    "print(\"Hora actual mas 2hs :\", vHora + \":\" + vMinutos + \":\" + vSegundos)\n"
   ]
  }
 ]
}